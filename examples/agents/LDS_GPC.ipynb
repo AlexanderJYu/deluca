{
 "cells": [
  {
   "cell_type": "code",
   "execution_count": 60,
   "metadata": {},
   "outputs": [
    {
     "name": "stdout",
     "output_type": "stream",
     "text": [
      "The autoreload extension is already loaded. To reload it, use:\n",
      "  %reload_ext autoreload\n"
     ]
    }
   ],
   "source": [
    "%load_ext autoreload\n",
    "%autoreload 2"
   ]
  },
  {
   "cell_type": "code",
   "execution_count": 61,
   "metadata": {},
   "outputs": [],
   "source": [
    "from deluca.agents import GPC\n",
    "from deluca.envs import LDS\n",
    "import jax\n",
    "import jax.numpy as jnp\n",
    "import numpy as np\n",
    "from tqdm import tqdm\n",
    "import matplotlib.pyplot as plt"
   ]
  },
  {
   "cell_type": "code",
   "execution_count": 62,
   "metadata": {},
   "outputs": [],
   "source": [
    "def loop(context, i):\n",
    "    controller, state, A, B = context\n",
    "    try:\n",
    "        action = controller(state, A, B)\n",
    "    except:\n",
    "        action = controller(state)\n",
    "        \n",
    "    state = A @ state + B @ action + np.random.normal(0, 0.2, size=(n,1)) # gaussian noise\n",
    "\n",
    "    if(i % T//2 == 0): # switch system\n",
    "        A,B = jnp.array([[1.,1.5], [0,1.]]), jnp.array([[0],[0.9]])\n",
    "    error = jnp.linalg.norm(state)+jnp.linalg.norm(action)\n",
    "    return (controller, state, A, B), error\n",
    "\n",
    "def get_errs(T, controller, A, B):\n",
    "    state = jnp.zeros((n, 1))\n",
    "    errs = [0.]\n",
    "    \n",
    "    for i in tqdm(range(1, T)):\n",
    "        (controller, state, A, B), error = loop((controller, state, A, B), i)\n",
    "        errs.append(error)\n",
    "    \n",
    "    return errs\n",
    "\n",
    "# TODO: need to address problem of LQR with jax.lax.scan\n",
    "def get_errs_scan(T, controller, A, B):\n",
    "    state = jnp.zeros((n, 1))\n",
    "    xs = jnp.array(jnp.arange(T))\n",
    "    _, errs = jax.lax.scan(loop, (controller, state, A, B), xs)\n",
    "    return errs"
   ]
  },
  {
   "cell_type": "code",
   "execution_count": 63,
   "metadata": {},
   "outputs": [],
   "source": [
    "cummean = lambda x: np.cumsum(x)/(np.ones(T) + np.arange(T))\n",
    "n, m = 2, 1\n",
    "T = 600"
   ]
  },
  {
   "cell_type": "code",
   "execution_count": 64,
   "metadata": {},
   "outputs": [
    {
     "name": "stderr",
     "output_type": "stream",
     "text": [
      "100%|██████████| 599/599 [00:02<00:00, 215.61it/s]\n"
     ]
    },
    {
     "name": "stdout",
     "output_type": "stream",
     "text": [
      "GPC incurs  1.0159633663594827  loss under gaussian iid noise\n"
     ]
    },
    {
     "data": {
      "image/png": "[encoded data removed]",
      "text/plain": [
       "<Figure size 432x288 with 1 Axes>"
      ]
     },
     "metadata": {
      "needs_background": "light"
     },
     "output_type": "display_data"
    }
   ],
   "source": [
    "A,B = jnp.array([[1.,.5], [0,1.]]), jnp.array([[0],[1.2]])\n",
    "\n",
    "gpc = GPC(A, B)\n",
    "\n",
    "gpc_errs = get_errs(T, gpc, A, B)\n",
    "# gpc_errs_scan = get_errs_scan(T, gpc, A, B)\n",
    "print(\"GPC incurs \", np.mean(gpc_errs), \" loss under gaussian iid noise\")\n",
    "# print(\"GPC with scan incurs \", np.mean(gpc_errs_scan), \" loss under gaussian iid noise\")\n",
    "\n",
    "\n",
    "plt.title(\"Instantenous losses under gaussian iid noise\")\n",
    "plt.plot(cummean(gpc_errs), \"green\", label = \"GPC\")\n",
    "plt.legend();"
   ]
  }
 ],
 "metadata": {
  "kernelspec": {
   "display_name": "Python 3",
   "language": "python",
   "name": "python3"
  },
  "language_info": {
   "codemirror_mode": {
    "name": "ipython",
    "version": 3
   },
   "file_extension": ".py",
   "mimetype": "text/x-python",
   "name": "python",
   "nbconvert_exporter": "python",
   "pygments_lexer": "ipython3",
   "version": "3.7.5"
  }
 },
 "nbformat": 4,
 "nbformat_minor": 4
}
