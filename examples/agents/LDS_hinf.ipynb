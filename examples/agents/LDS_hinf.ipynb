{
 "cells": [
  {
   "cell_type": "code",
   "execution_count": 93,
   "metadata": {},
   "outputs": [
    {
     "name": "stdout",
     "output_type": "stream",
     "text": [
      "The autoreload extension is already loaded. To reload it, use:\n",
      "  %reload_ext autoreload\n"
     ]
    }
   ],
   "source": [
    "%load_ext autoreload\n",
    "%autoreload 2"
   ]
  },
  {
   "cell_type": "code",
   "execution_count": 175,
   "metadata": {},
   "outputs": [],
   "source": [
    "from deluca.agents import Hinf\n",
    "from deluca.envs import LDS\n",
    "import jax\n",
    "import jax.numpy as jnp\n",
    "import numpy as np\n",
    "import matplotlib.pyplot as plt"
   ]
  },
  {
   "cell_type": "code",
   "execution_count": 176,
   "metadata": {},
   "outputs": [],
   "source": [
    "cummean = lambda x: np.cumsum(x)/(np.ones(T) + np.arange(T))\n",
    "n, m = 2, 1\n",
    "T = 100"
   ]
  },
  {
   "cell_type": "code",
   "execution_count": 183,
   "metadata": {},
   "outputs": [],
   "source": [
    "def loop(context, i):\n",
    "    env, controller = context\n",
    "    action = controller(env.obs)\n",
    "    env.step(action)\n",
    "    env.state += 0.5 * jnp.sin(i) # add sine noise\n",
    "    error = jnp.linalg.norm(env.state)+jnp.linalg.norm(action)\n",
    "    return (env, controller), error\n",
    "\n",
    "def loop_scan(context, K):\n",
    "    env, i = context\n",
    "    action = -K @ env.obs\n",
    "    env.step(action)\n",
    "    env.state += 0.5 * jnp.sin(i) # add sine noise\n",
    "    error = jnp.linalg.norm(env.state)+jnp.linalg.norm(action)\n",
    "    return (env, i+1), error\n",
    "\n",
    "def get_errs(T, env, controller):\n",
    "    avg_err = 0\n",
    "    for i in range(T):\n",
    "        (env, controller), error = loop((env, controller), i)\n",
    "        avg_err += error/T\n",
    "    return avg_err\n",
    "\n",
    "def get_errs_scan(T, env, controller):\n",
    "    xs = jnp.array(jnp.arange(T))\n",
    "    K = jnp.array(controller.K)\n",
    "    _, errs = jax.lax.scan(loop_scan, (env, 0), K)\n",
    "    return errs"
   ]
  },
  {
   "cell_type": "code",
   "execution_count": 184,
   "metadata": {},
   "outputs": [
    {
     "name": "stdout",
     "output_type": "stream",
     "text": [
      "hinf incurs  0.7369849513183304  loss under sine noise\n"
     ]
    },
    {
     "data": {
      "image/png": "[encoded data removed]",
      "text/plain": [
       "<Figure size 432x288 with 1 Axes>"
      ]
     },
     "metadata": {
      "needs_background": "light"
     },
     "output_type": "display_data"
    }
   ],
   "source": [
    "A,B,C = jnp.array([[0.5,0.5], [0.,1.]]), jnp.array([[1.],[0.]]), jnp.array([[1.,0], [0,1.]])\n",
    "hinf = Hinf(A, B, T)\n",
    "hinf.train(A, B, T)\n",
    "env = LDS(state_size=2,\n",
    "          action_size=1,\n",
    "          A=A,\n",
    "          B=B,\n",
    "          C=C)\n",
    "hinf_errs = get_errs(T, env, hinf)\n",
    "print(\"hinf incurs \", np.mean(hinf_errs), \" loss under sine noise\")\n",
    "\n",
    "plt.title(\"Instantenous losses under gaussian iid noise\")\n",
    "plt.plot(cummean(hinf_errs), \"green\", label = \"Hinf\")\n",
    "plt.legend();"
   ]
  },
  {
   "cell_type": "code",
   "execution_count": 185,
   "metadata": {},
   "outputs": [
    {
     "name": "stdout",
     "output_type": "stream",
     "text": [
      "hinf with scan incurs  0.7369849513183305  loss under sine noise\n"
     ]
    }
   ],
   "source": [
    "A,B,C = jnp.array([[0.5,0.5], [0.,1.]]), jnp.array([[1.],[0.]]), jnp.array([[1.,0], [0,1.]])\n",
    "hinf = Hinf(A, B, T)\n",
    "hinf.train(A, B, T)\n",
    "env = LDS(state_size=2,\n",
    "          action_size=1,\n",
    "          A=A,\n",
    "          B=B,\n",
    "          C=C)\n",
    "hinf_errs_scan = get_errs_scan(T, env, hinf)\n",
    "print(\"hinf with scan incurs \", np.mean(hinf_errs_scan), \" loss under sine noise\")"
   ]
  }
 ],
 "metadata": {
  "kernelspec": {
   "display_name": "Python 3",
   "language": "python",
   "name": "python3"
  },
  "language_info": {
   "codemirror_mode": {
    "name": "ipython",
    "version": 3
   },
   "file_extension": ".py",
   "mimetype": "text/x-python",
   "name": "python",
   "nbconvert_exporter": "python",
   "pygments_lexer": "ipython3",
   "version": "3.7.5"
  }
 },
 "nbformat": 4,
 "nbformat_minor": 4
}
