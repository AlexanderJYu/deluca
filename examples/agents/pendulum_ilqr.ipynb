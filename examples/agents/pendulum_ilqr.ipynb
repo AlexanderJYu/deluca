{
 "cells": [
  {
   "cell_type": "code",
   "execution_count": 10,
   "metadata": {},
   "outputs": [
    {
     "name": "stdout",
     "output_type": "stream",
     "text": [
      "The autoreload extension is already loaded. To reload it, use:\n",
      "  %reload_ext autoreload\n"
     ]
    }
   ],
   "source": [
    "%load_ext autoreload\n",
    "%autoreload 2"
   ]
  },
  {
   "cell_type": "code",
   "execution_count": 47,
   "metadata": {},
   "outputs": [],
   "source": [
    "import jax.numpy as jnp\n",
    "import matplotlib.pyplot as plt\n",
    "import jax\n",
    "from jax import lax\n",
    "from deluca.envs import Pendulum\n",
    "from deluca.agents import LQR"
   ]
  },
  {
   "cell_type": "code",
   "execution_count": 48,
   "metadata": {
    "pycharm": {
     "name": "#%%\n"
    }
   },
   "outputs": [],
   "source": [
    "def loop(context):\n",
    "    env, agent = context\n",
    "    control = agent(env.state)\n",
    "    _, reward, _, _ = env.step(control)\n",
    "    return (env, agent), reward\n",
    "\n",
    "def loop_scan(env, u):\n",
    "    control = u\n",
    "    _, reward, _, _ = env.step(control)\n",
    "    return env, reward"
   ]
  },
  {
   "cell_type": "code",
   "execution_count": 49,
   "metadata": {
    "scrolled": true
   },
   "outputs": [
    {
     "name": "stdout",
     "output_type": "stream",
     "text": [
      "iLQR : t = 2, c = -409.508188\n",
      "iLQR : t = 3, c = -409.508188\n",
      "iLQR : t = 4, c = -409.508188\n",
      "iLQR : t = 5, c = -413.356653\n",
      "iLQR : t = 6, c = -413.356653\n",
      "iLQR : t = 7, c = -413.356653\n",
      "iLQR : t = 8, c = -413.366693\n",
      "iLQR : t = 9, c = -413.366693\n",
      "iLQR : t = 10, c = -413.366693\n"
     ]
    }
   ],
   "source": [
    "# ILQR\n",
    "agent = ILQR()\n",
    "agent.train(Pendulum(), 10)\n",
    "env = Pendulum()"
   ]
  },
  {
   "cell_type": "code",
   "execution_count": 50,
   "metadata": {},
   "outputs": [
    {
     "name": "stdout",
     "output_type": "stream",
     "text": [
      "[-1.97009089  0.77338597]\n",
      "reward_forloop = -246.045591988181\n",
      "[-1.97009089  0.77338597]\n",
      "reward_scan sum = -246.04559198818106\n"
     ]
    }
   ],
   "source": [
    " # for loop version\n",
    "T = 50\n",
    "print(env.reset())\n",
    "reward = 0\n",
    "for i in range(T):\n",
    "    (env, agent), r = loop((env, agent))\n",
    "    reward += r\n",
    "reward_forloop = reward\n",
    "print('reward_forloop = ' + str(reward_forloop))\n",
    "\n",
    "\n",
    "# scan version\n",
    "env = Pendulum()\n",
    "print(env.reset())\n",
    "plan = agent.U\n",
    "_,reward_scan = lax.scan(loop_scan, env, plan)\n",
    "\n",
    "# correctness test\n",
    "print('reward_scan sum = ' + str(jnp.sum(reward_scan)))"
   ]
  }
 ],
 "metadata": {
  "kernelspec": {
   "display_name": "Python 3",
   "language": "python",
   "name": "python3"
  },
  "language_info": {
   "codemirror_mode": {
    "name": "ipython",
    "version": 3
   },
   "file_extension": ".py",
   "mimetype": "text/x-python",
   "name": "python",
   "nbconvert_exporter": "python",
   "pygments_lexer": "ipython3",
   "version": "3.7.5"
  }
 },
 "nbformat": 4,
 "nbformat_minor": 1
}
