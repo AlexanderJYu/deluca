{
 "cells": [
  {
   "cell_type": "code",
   "execution_count": 737,
   "metadata": {},
   "outputs": [
    {
     "name": "stdout",
     "output_type": "stream",
     "text": [
      "The autoreload extension is already loaded. To reload it, use:\n",
      "  %reload_ext autoreload\n"
     ]
    }
   ],
   "source": [
    "%load_ext autoreload\n",
    "%autoreload 2"
   ]
  },
  {
   "cell_type": "code",
   "execution_count": 227,
   "metadata": {},
   "outputs": [],
   "source": [
    "from deluca.agents import DRC, LQR\n",
    "from deluca.envs import LDS\n",
    "import jax\n",
    "import jax.numpy as jnp"
   ]
  },
  {
   "cell_type": "code",
   "execution_count": 231,
   "metadata": {},
   "outputs": [],
   "source": [
    "def loop(context, i):\n",
    "    lds, controller = context\n",
    "    action = controller(lds.obs)\n",
    "    lds.step(action)\n",
    "    lds.state += 0.5 * jnp.sin(i) # add sine noise\n",
    "    error = jnp.linalg.norm(lds.state)+jnp.linalg.norm(action)\n",
    "    return (lds, controller), error\n",
    "\n",
    "def get_err(T, lds, controller):\n",
    "    mean_error = 0\n",
    "    for i in range(T):\n",
    "        (lds, controller) , error = loop((lds, controller), i)\n",
    "        mean_error += error/T\n",
    "    return mean_error\n",
    "\n",
    "def get_err_scan(T, lds, controller):\n",
    "    xs = jnp.array(jnp.arange(T)) \n",
    "    _, error = jax.lax.scan(loop, (lds, controller), xs)\n",
    "    return jnp.mean(error)"
   ]
  },
  {
   "cell_type": "code",
   "execution_count": 229,
   "metadata": {},
   "outputs": [],
   "source": [
    "T = 100"
   ]
  },
  {
   "cell_type": "code",
   "execution_count": 230,
   "metadata": {},
   "outputs": [
    {
     "name": "stdout",
     "output_type": "stream",
     "text": [
      "Pure DRC incurs  0.6832412287296924  loss\n",
      "Purer DRC with scan incurs 0.6832412287296923  loss\n"
     ]
    }
   ],
   "source": [
    "A,B = jnp.array([[.8,.5], [0,.8]]), jnp.array([[0],[0.8]])\n",
    "lds = LDS(state_size= B.shape[0], action_size=B.shape[1], A=A, B=B)\n",
    "drc = DRC(lds.A, lds.B, C=lds.C)\n",
    "print(\"Pure DRC incurs \", get_err(T, lds, drc), \" loss\")\n",
    "lds = LDS(state_size= B.shape[0], action_size=B.shape[1], A=A, B=B)\n",
    "drc = DRC(lds.A, lds.B, C=lds.C)\n",
    "print(\"Purer DRC with scan incurs\", get_err_scan(T, lds, drc), \" loss\")\n"
   ]
  },
  {
   "cell_type": "code",
   "execution_count": 232,
   "metadata": {},
   "outputs": [
    {
     "name": "stdout",
     "output_type": "stream",
     "text": [
      "DRC initialized with LQR incurs  1.324636032988597  loss\n",
      "DRC with scan initialized with LQR incurs  1.3246360329885964  loss\n"
     ]
    }
   ],
   "source": [
    "# Note: need to rerun def loop cell before running this cell\n",
    "A,B = jnp.array([[.8,.5], [0,.8]]), jnp.array([[0],[0.8]])\n",
    "lds = LDS(state_size= B.shape[0], action_size=B.shape[1], A=A, B=B)\n",
    "drc_lqr = DRC(lds.A, lds.B, C=lds.C, K= LQR(A, B).K)\n",
    "print(\"DRC initialized with LQR incurs \", get_err(T, lds, drc_lqr), \" loss\")\n",
    "lds = LDS(state_size= B.shape[0], action_size=B.shape[1], A=A, B=B)\n",
    "drc_lqr = DRC(lds.A, lds.B, C=lds.C, K= LQR(A, B).K)\n",
    "print(\"DRC with scan initialized with LQR incurs \", get_err_scan(T, lds, drc_lqr), \" loss\")\n"
   ]
  },
  {
   "cell_type": "code",
   "execution_count": 233,
   "metadata": {},
   "outputs": [
    {
     "name": "stdout",
     "output_type": "stream",
     "text": [
      "LQR incurs  1.2980238445428083  loss\n"
     ]
    }
   ],
   "source": [
    "lds = LDS(state_size= B.shape[0], action_size=B.shape[1], A=A, B=B)\n",
    "lqr = LQR(A, B)\n",
    "print(\"LQR incurs \", get_err(T, lds, lqr), \" loss\")"
   ]
  },
  {
   "cell_type": "code",
   "execution_count": null,
   "metadata": {},
   "outputs": [],
   "source": []
  }
 ],
 "metadata": {
  "kernelspec": {
   "display_name": "Python 3",
   "language": "python",
   "name": "python3"
  },
  "language_info": {
   "codemirror_mode": {
    "name": "ipython",
    "version": 3
   },
   "file_extension": ".py",
   "mimetype": "text/x-python",
   "name": "python",
   "nbconvert_exporter": "python",
   "pygments_lexer": "ipython3",
   "version": "3.7.5"
  }
 },
 "nbformat": 4,
 "nbformat_minor": 4
}
