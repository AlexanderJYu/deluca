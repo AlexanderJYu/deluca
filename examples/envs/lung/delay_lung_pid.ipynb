{
 "cells": [
  {
   "cell_type": "code",
   "execution_count": 11,
   "metadata": {},
   "outputs": [
    {
     "name": "stdout",
     "output_type": "stream",
     "text": [
      "The autoreload extension is already loaded. To reload it, use:\n",
      "  %reload_ext autoreload\n"
     ]
    },
    {
     "name": "stderr",
     "output_type": "stream",
     "text": [
      "[autoreload of deluca.envs.classic._pendulum failed: Traceback (most recent call last):\n",
      "  File \"/Users/alexjyu/miniconda3/lib/python3.7/site-packages/IPython/extensions/autoreload.py\", line 245, in check\n",
      "    superreload(m, reload, self.old_objects)\n",
      "  File \"/Users/alexjyu/miniconda3/lib/python3.7/site-packages/IPython/extensions/autoreload.py\", line 410, in superreload\n",
      "    update_generic(old_obj, new_obj)\n",
      "  File \"/Users/alexjyu/miniconda3/lib/python3.7/site-packages/IPython/extensions/autoreload.py\", line 347, in update_generic\n",
      "    update(a, b)\n",
      "  File \"/Users/alexjyu/miniconda3/lib/python3.7/site-packages/IPython/extensions/autoreload.py\", line 302, in update_class\n",
      "    if update_generic(old_obj, new_obj): continue\n",
      "  File \"/Users/alexjyu/miniconda3/lib/python3.7/site-packages/IPython/extensions/autoreload.py\", line 347, in update_generic\n",
      "    update(a, b)\n",
      "  File \"/Users/alexjyu/miniconda3/lib/python3.7/site-packages/IPython/extensions/autoreload.py\", line 266, in update_function\n",
      "    setattr(old, name, getattr(new, name))\n",
      "ValueError: dynamics() requires a code object with 1 free vars, not 0\n",
      "]\n"
     ]
    }
   ],
   "source": [
    "%load_ext autoreload\n",
    "%autoreload 2"
   ]
  },
  {
   "cell_type": "code",
   "execution_count": 12,
   "metadata": {},
   "outputs": [],
   "source": [
    "import jax.numpy as jnp\n",
    "import matplotlib.pyplot as plt\n",
    "import jax\n",
    "from jax import lax\n",
    "from deluca.envs import DelayLung\n",
    "from deluca.agents import PID"
   ]
  },
  {
   "cell_type": "code",
   "execution_count": 13,
   "metadata": {
    "pycharm": {
     "name": "#%%\n"
    }
   },
   "outputs": [],
   "source": [
    "def loop(context, x):\n",
    "    env, agent = context\n",
    "    agent_in, agent_out = agent\n",
    "    error = env.observation['target'] - env.observation['measured']\n",
    "    control_in = agent_in(error)\n",
    "    control_out = agent_out(error)\n",
    "    _, reward, _, _ = env.step((control_in, control_out))\n",
    "    return (env, (agent_in, agent_out)), reward"
   ]
  },
  {
   "cell_type": "code",
   "execution_count": 14,
   "metadata": {},
   "outputs": [],
   "source": [
    "# DelayLung env\n",
    "lung = DelayLung(min_volume=1.5,\n",
    "                 R_lung=10,\n",
    "                 C_lung=6,\n",
    "                 delay=25,\n",
    "                 inertia=0.995,\n",
    "                 control_gain=0.02,\n",
    "                 dt=0.03,\n",
    "                 waveform=None,\n",
    "                 reward_fn=None)"
   ]
  },
  {
   "cell_type": "code",
   "execution_count": 17,
   "metadata": {},
   "outputs": [
    {
     "name": "stdout",
     "output_type": "stream",
     "text": [
      "{'measured': 0, 'target': DeviceArray(5., dtype=float64), 'dt': 0.03, 'phase': DeviceArray(1, dtype=int64)}\n",
      "{'measured': 0, 'target': DeviceArray(5., dtype=float64), 'dt': 0.03, 'phase': DeviceArray(1, dtype=int64)}\n",
      "reward_forloop = -140.0\n",
      "reward_scan sum = -140.0\n"
     ]
    }
   ],
   "source": [
    "# for loop version\n",
    "T = 10\n",
    "xs = jnp.array(jnp.arange(T))\n",
    "agent_in = PID([3.0, 4.0, 0.0])\n",
    "agent_out = PID([3.0, 4.0, 0.0])\n",
    "print(lung.reset())\n",
    "reward = 0\n",
    "for i in range(T):\n",
    "    (lung, (agent_in, agent_out)), r = loop((lung, (agent_in, agent_out)), 0)\n",
    "    reward += r\n",
    "reward_forloop = reward\n",
    "\n",
    "# scan version\n",
    "agent_in = PID([3.0, 4.0, 0.0])\n",
    "agent_out = PID([3.0, 4.0, 0.0])\n",
    "print(lung.reset())\n",
    "_,reward_scan = lax.scan(loop, (lung, (agent_in, agent_out)), xs)\n",
    "\n",
    "# correctness test\n",
    "print('reward_forloop = ' + str(reward_forloop))\n",
    "print('reward_scan sum = ' + str(jnp.sum(reward_scan)))"
   ]
  },
  {
   "cell_type": "code",
   "execution_count": null,
   "metadata": {},
   "outputs": [],
   "source": []
  }
 ],
 "metadata": {
  "kernelspec": {
   "display_name": "Python 3",
   "language": "python",
   "name": "python3"
  },
  "language_info": {
   "codemirror_mode": {
    "name": "ipython",
    "version": 3
   },
   "file_extension": ".py",
   "mimetype": "text/x-python",
   "name": "python",
   "nbconvert_exporter": "python",
   "pygments_lexer": "ipython3",
   "version": "3.7.5"
  }
 },
 "nbformat": 4,
 "nbformat_minor": 1
}
