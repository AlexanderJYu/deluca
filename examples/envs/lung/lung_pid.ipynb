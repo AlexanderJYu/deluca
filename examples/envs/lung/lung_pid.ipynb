{
 "cells": [
  {
   "cell_type": "code",
   "execution_count": 1,
   "metadata": {},
   "outputs": [],
   "source": [
    "%load_ext autoreload\n",
    "%autoreload 2"
   ]
  },
  {
   "cell_type": "code",
   "execution_count": 2,
   "metadata": {},
   "outputs": [],
   "source": [
    "import torch\n",
    "import jax.numpy as jnp\n",
    "import numpy as np\n",
    "import time\n",
    "import matplotlib.pyplot as plt\n",
    "import jax\n",
    "from jax import lax\n",
    "from gym.envs.classic_control import PendulumEnv\n",
    "from deluca import Agent\n",
    "from deluca.envs import BalloonLung, DelayLung, LearnedLung\n",
    "from deluca.agents import PID\n",
    "from deluca.envs.core import Env\n",
    "import pickle\n"
   ]
  },
  {
   "cell_type": "code",
   "execution_count": 3,
   "metadata": {
    "pycharm": {
     "name": "#%%\n"
    }
   },
   "outputs": [],
   "source": [
    "def loop(context, x):\n",
    "    env, agent = context\n",
    "    agent_in, agent_out = agent\n",
    "    error = env.observation['target'] - env.observation['measured']\n",
    "    control_in = agent_in(error)\n",
    "    control_out = agent_out(error)\n",
    "    _, reward, _, _ = env.step((control_in, control_out))\n",
    "    return (env, (agent_in, agent_out)), reward"
   ]
  },
  {
   "cell_type": "code",
   "execution_count": 5,
   "metadata": {},
   "outputs": [],
   "source": [
    "# BalloonLung env\n",
    "lung = BalloonLung(leak=False,\n",
    "                   peep_valve=5.0,\n",
    "                   PC=40.0,\n",
    "                   P0=0.0,\n",
    "                   C=10.0,\n",
    "                   R=15.0,\n",
    "                   dt=0.03,\n",
    "                   waveform=None,\n",
    "                   reward_fn=None)\n"
   ]
  },
  {
   "cell_type": "code",
   "execution_count": 112,
   "metadata": {},
   "outputs": [],
   "source": [
    "# DelayLung env\n",
    "lung = DelayLung(min_volume=1.5,\n",
    "                 R_lung=10,\n",
    "                 C_lung=6,\n",
    "                 delay=25,\n",
    "                 inertia=0.995,\n",
    "                 control_gain=0.02,\n",
    "                 dt=0.03,\n",
    "                 waveform=None,\n",
    "                 reward_fn=None)"
   ]
  },
  {
   "cell_type": "code",
   "execution_count": 8,
   "metadata": {},
   "outputs": [],
   "source": [
    "# LearnedLung env\n",
    "lung = LearnedLung.from_torch(\"learned_lung_C20_R20_PEEP10.pkl\")"
   ]
  },
  {
   "cell_type": "code",
   "execution_count": 10,
   "metadata": {},
   "outputs": [
    {
     "name": "stdout",
     "output_type": "stream",
     "text": [
      "{'measured': 0, 'target': DeviceArray(5., dtype=float64), 'dt': 0.03, 'phase': DeviceArray(1, dtype=int64)}\n",
      "{'measured': 0, 'target': DeviceArray(5., dtype=float64), 'dt': 0.03, 'phase': DeviceArray(1, dtype=int64)}\n",
      "reward_forloop = -127.64067316490946\n",
      "reward_scan sum = -127.64067316490946\n"
     ]
    }
   ],
   "source": [
    "# for loop version\n",
    "T = 10\n",
    "xs = jnp.array(jnp.arange(T))\n",
    "agent_in = PID([3.0, 4.0, 0.0])\n",
    "agent_out = PID([3.0, 4.0, 0.0])\n",
    "print(lung.reset())\n",
    "reward = 0\n",
    "for i in range(T):\n",
    "    (lung, (agent_in, agent_out)), r = loop((lung, (agent_in, agent_out)), 0)\n",
    "    reward += r\n",
    "reward_forloop = reward\n",
    "\n",
    "# scan version\n",
    "agent_in = PID([3.0, 4.0, 0.0])\n",
    "agent_out = PID([3.0, 4.0, 0.0])\n",
    "print(lung.reset())\n",
    "_,reward_scan = lax.scan(loop, (lung, (agent_in, agent_out)), xs)\n",
    "\n",
    "# correctness test\n",
    "print('reward_forloop = ' + str(reward_forloop))\n",
    "print('reward_scan sum = ' + str(jnp.sum(reward_scan)))"
   ]
  },
  {
   "cell_type": "code",
   "execution_count": null,
   "metadata": {},
   "outputs": [],
   "source": []
  }
 ],
 "metadata": {
  "kernelspec": {
   "display_name": "Python 3",
   "language": "python",
   "name": "python3"
  },
  "language_info": {
   "codemirror_mode": {
    "name": "ipython",
    "version": 3
   },
   "file_extension": ".py",
   "mimetype": "text/x-python",
   "name": "python",
   "nbconvert_exporter": "python",
   "pygments_lexer": "ipython3",
   "version": "3.7.5"
  }
 },
 "nbformat": 4,
 "nbformat_minor": 1
}
